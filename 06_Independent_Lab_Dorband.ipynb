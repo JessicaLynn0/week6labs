{
 "cells": [
  {
   "cell_type": "code",
   "execution_count": 1,
   "id": "fac85e0d-4e87-48b0-97aa-4bbc11761cc9",
   "metadata": {},
   "outputs": [],
   "source": [
    "# grade entry system\n",
    "students = [\"Carmen Berzatto\", \"Sydney Adamu\", \"Neil Fak\", \"Marcus Brooks\"]  # list of student names\n",
    "majors = [\"Culinary Arts\", \"Hospitality\", \"Business\", \"Music\"]  # list of majors\n",
    "gpas = [3.5, 3.8, 2.4, 3.2]  # list of GPAs"
   ]
  },
  {
   "cell_type": "code",
   "execution_count": null,
   "id": "18a7764e-83af-4a39-9462-a53eec1a1f4f",
   "metadata": {},
   "outputs": [
    {
     "name": "stdout",
     "output_type": "stream",
     "text": [
      "Welcome to your Grade Entry System.\n",
      "\n",
      "Please select an option:\n",
      "1: Student Information Query\n",
      "2: Student Information Entry\n",
      "3: Query GPA Metrics\n",
      "4: Academic Violations\n",
      "5: Quit Program\n"
     ]
    },
    {
     "name": "stdin",
     "output_type": "stream",
     "text": [
      "Enter choice (1-5):  1\n"
     ]
    },
    {
     "name": "stdout",
     "output_type": "stream",
     "text": [
      "\n",
      "Student Information:\n",
      "\n",
      "Student: Carmen Berzatto\n",
      "Major: Culinary Arts\n",
      "GPA: 3.5\n",
      "Violations: None\n",
      "\n",
      "Student: Sydney Adamu\n",
      "Major: Hospitality\n",
      "GPA: 3.8\n",
      "Violations: None\n",
      "\n",
      "Student: Neil Fak\n",
      "Major: Business\n",
      "GPA: 2.4\n",
      "Violations: None\n",
      "\n",
      "Student: Marcus Brooks\n",
      "Major: Music\n",
      "GPA: 3.2\n",
      "Violations: None\n",
      "\n",
      "Please select an option:\n",
      "1: Student Information Query\n",
      "2: Student Information Entry\n",
      "3: Query GPA Metrics\n",
      "4: Academic Violations\n",
      "5: Quit Program\n"
     ]
    },
    {
     "name": "stdin",
     "output_type": "stream",
     "text": [
      "Enter choice (1-5):  2\n"
     ]
    },
    {
     "name": "stdout",
     "output_type": "stream",
     "text": [
      "\n",
      "Enter new student information:\n"
     ]
    },
    {
     "name": "stdin",
     "output_type": "stream",
     "text": [
      "Full name:  Dalton Larson\n",
      "Major:  Business\n",
      "GPA (e.g., 3.5):  3.0\n"
     ]
    },
    {
     "name": "stdout",
     "output_type": "stream",
     "text": [
      "Dalton Larson added successfully!\n",
      "\n",
      "Please select an option:\n",
      "1: Student Information Query\n",
      "2: Student Information Entry\n",
      "3: Query GPA Metrics\n",
      "4: Academic Violations\n",
      "5: Quit Program\n"
     ]
    },
    {
     "name": "stdin",
     "output_type": "stream",
     "text": [
      "Enter choice (1-5):  2\n"
     ]
    },
    {
     "name": "stdout",
     "output_type": "stream",
     "text": [
      "\n",
      "Enter new student information:\n"
     ]
    },
    {
     "name": "stdin",
     "output_type": "stream",
     "text": [
      "Full name:  Jessica Dorband\n",
      "Major:  MSBA\n",
      "GPA (e.g., 3.5):  3.9\n"
     ]
    },
    {
     "name": "stdout",
     "output_type": "stream",
     "text": [
      "Jessica Dorband added successfully!\n",
      "\n",
      "Please select an option:\n",
      "1: Student Information Query\n",
      "2: Student Information Entry\n",
      "3: Query GPA Metrics\n",
      "4: Academic Violations\n",
      "5: Quit Program\n"
     ]
    },
    {
     "name": "stdin",
     "output_type": "stream",
     "text": [
      "Enter choice (1-5):  4\n"
     ]
    },
    {
     "name": "stdout",
     "output_type": "stream",
     "text": [
      "\n",
      "Assign Academic Violation:\n",
      "1: Carmen Berzatto\n",
      "2: Sydney Adamu\n",
      "3: Neil Fak\n",
      "4: Marcus Brooks\n",
      "5: Dalton Larson\n",
      "6: Jessica Dorband\n"
     ]
    },
    {
     "name": "stdin",
     "output_type": "stream",
     "text": [
      "Select a student by number:  5\n"
     ]
    },
    {
     "name": "stdout",
     "output_type": "stream",
     "text": [
      "1: Copying homework\n",
      "2: Cheating on exam\n",
      "3: Plagiarism\n",
      "4: Cheating on quiz\n",
      "5: Writing paper for another student\n",
      "6: None\n"
     ]
    },
    {
     "name": "stdin",
     "output_type": "stream",
     "text": [
      "Select a violation by number:  1\n"
     ]
    },
    {
     "name": "stdout",
     "output_type": "stream",
     "text": [
      "Violation updated for Dalton Larson.\n",
      "\n",
      "Please select an option:\n",
      "1: Student Information Query\n",
      "2: Student Information Entry\n",
      "3: Query GPA Metrics\n",
      "4: Academic Violations\n",
      "5: Quit Program\n"
     ]
    },
    {
     "name": "stdin",
     "output_type": "stream",
     "text": [
      "Enter choice (1-5):  4\n"
     ]
    },
    {
     "name": "stdout",
     "output_type": "stream",
     "text": [
      "\n",
      "Assign Academic Violation:\n",
      "1: Carmen Berzatto\n",
      "2: Sydney Adamu\n",
      "3: Neil Fak\n",
      "4: Marcus Brooks\n",
      "5: Dalton Larson\n",
      "6: Jessica Dorband\n"
     ]
    },
    {
     "name": "stdin",
     "output_type": "stream",
     "text": [
      "Select a student by number:  6\n"
     ]
    },
    {
     "name": "stdout",
     "output_type": "stream",
     "text": [
      "1: Copying homework\n",
      "2: Cheating on exam\n",
      "3: Plagiarism\n",
      "4: Cheating on quiz\n",
      "5: Writing paper for another student\n",
      "6: None\n"
     ]
    },
    {
     "name": "stdin",
     "output_type": "stream",
     "text": [
      "Select a violation by number:  5\n"
     ]
    },
    {
     "name": "stdout",
     "output_type": "stream",
     "text": [
      "Violation updated for Jessica Dorband.\n",
      "\n",
      "Please select an option:\n",
      "1: Student Information Query\n",
      "2: Student Information Entry\n",
      "3: Query GPA Metrics\n",
      "4: Academic Violations\n",
      "5: Quit Program\n"
     ]
    },
    {
     "name": "stdin",
     "output_type": "stream",
     "text": [
      "Enter choice (1-5):  1\n"
     ]
    },
    {
     "name": "stdout",
     "output_type": "stream",
     "text": [
      "\n",
      "Student Information:\n",
      "\n",
      "Student: Carmen Berzatto\n",
      "Major: Culinary Arts\n",
      "GPA: 3.5\n",
      "Violations: None\n",
      "\n",
      "Student: Sydney Adamu\n",
      "Major: Hospitality\n",
      "GPA: 3.8\n",
      "Violations: None\n",
      "\n",
      "Student: Neil Fak\n",
      "Major: Business\n",
      "GPA: 2.4\n",
      "Violations: None\n",
      "\n",
      "Student: Marcus Brooks\n",
      "Major: Music\n",
      "GPA: 3.2\n",
      "Violations: None\n",
      "\n",
      "Student: Dalton Larson\n",
      "Major: Business\n",
      "GPA: 3.0\n",
      "Violations: Copying homework\n",
      "\n",
      "Student: Jessica Dorband\n",
      "Major: MSBA\n",
      "GPA: 3.9\n",
      "Violations: Writing paper for another student\n",
      "\n",
      "Please select an option:\n",
      "1: Student Information Query\n",
      "2: Student Information Entry\n",
      "3: Query GPA Metrics\n",
      "4: Academic Violations\n",
      "5: Quit Program\n"
     ]
    }
   ],
   "source": [
    "violations = [  # academic violations\n",
    "    \"Copying homework\",\n",
    "    \"Cheating on exam\",\n",
    "    \"Plagiarism\",\n",
    "    \"Cheating on quiz\",\n",
    "    \"Writing paper for another student\",\n",
    "    \"None\"\n",
    "]\n",
    "student_violations = [\"None\", \"None\", \"None\", \"None\"]  # each student's violation status\n",
    "\n",
    "print(\"Welcome to your Grade Entry System.\")  # Welcome message to user\n",
    "\n",
    "while True:  # loop until user chooses to exit\n",
    "    print(\"\\nPlease select an option:\")\n",
    "    print(\"1: Student Information Query\")\n",
    "    print(\"2: Student Information Entry\")\n",
    "    print(\"3: Query GPA Metrics\")\n",
    "    print(\"4: Academic Violations\")\n",
    "    print(\"5: Quit Program\")\n",
    "\n",
    "    choice = input(\"Enter choice (1-5): \")  # get user choice\n",
    "\n",
    "    if choice == \"1\":  # student information query\n",
    "        print(\"\\nStudent Information:\")\n",
    "        for i in range(len(students)):  # display each student's info\n",
    "            print(f\"\\nStudent: {students[i]}\")\n",
    "            print(f\"Major: {majors[i]}\")\n",
    "            print(f\"GPA: {gpas[i]}\")\n",
    "            print(f\"Violations: {student_violations[i]}\")\n",
    "\n",
    "    elif choice == \"2\":  # student information entry\n",
    "        print(\"\\nEnter new student information:\")\n",
    "        name = input(\"Full name: \")  # get student name\n",
    "        major = input(\"Major: \")  # get major\n",
    "        try:\n",
    "            gpa = float(input(\"GPA (e.g., 3.5): \"))  # get GPA as float\n",
    "        except ValueError:\n",
    "            print(\"Invalid GPA. Try again.\")\n",
    "            continue\n",
    "        students.append(name)  # add name to student list\n",
    "        majors.append(major)  # add major to majors list\n",
    "        gpas.append(gpa)  # add GPA to GPA list\n",
    "        student_violations.append(\"None\")  # initialize violation status\n",
    "        print(f\"{name} added successfully!\")\n",
    "\n",
    "    elif choice == \"3\":  # query GPA metrics\n",
    "        print(\"\\nGPA Metrics:\")\n",
    "        print(f\"Max GPA: {max(gpas)}\")  # max GPA\n",
    "        print(f\"Min GPA: {min(gpas)}\")  # min GPA\n",
    "        print(f\"Average GPA: {sum(gpas)/len(gpas):.2f}\")  # average GPA\n",
    "\n",
    "    elif choice == \"4\":  # academic violations\n",
    "        print(\"\\nAssign Academic Violation:\")\n",
    "        for i, student in enumerate(students):  # list all students\n",
    "            print(f\"{i + 1}: {student}\")\n",
    "        try:\n",
    "            student_index = int(input(\"Select a student by number: \")) - 1  # get student index\n",
    "            if not (0 <= student_index < len(students)):\n",
    "                print(\"Invalid student selection.\")\n",
    "                continue\n",
    "        except ValueError:\n",
    "            print(\"Invalid input.\")\n",
    "            continue\n",
    "\n",
    "        for i, v in enumerate(violations):  # list violations\n",
    "            print(f\"{i + 1}: {v}\")\n",
    "        try:\n",
    "            violation_index = int(input(\"Select a violation by number: \")) - 1  # get violation index\n",
    "            if not (0 <= violation_index < len(violations)):\n",
    "                print(\"Invalid violation selection.\")\n",
    "                continue\n",
    "        except ValueError:\n",
    "            print(\"Invalid input.\")\n",
    "            continue\n",
    "\n",
    "        student_violations[student_index] = violations[violation_index]  # update violation status\n",
    "        print(f\"Violation updated for {students[student_index]}.\")\n",
    "\n",
    "    elif choice == \"5\":  # quit program\n",
    "        print(\"\\nThank you for using the Grade Entry System.\")  # exit message\n",
    "        break\n",
    "\n",
    "    else:\n",
    "        print(\"Invalid selection. Please choose a number between 1 and 5.\")  # handle invalid input"
   ]
  },
  {
   "cell_type": "code",
   "execution_count": null,
   "id": "c91b30f3-df32-410a-aa9d-bbc92de25bb2",
   "metadata": {},
   "outputs": [],
   "source": []
  }
 ],
 "metadata": {
  "kernelspec": {
   "display_name": "Python [conda env:base] *",
   "language": "python",
   "name": "conda-base-py"
  },
  "language_info": {
   "codemirror_mode": {
    "name": "ipython",
    "version": 3
   },
   "file_extension": ".py",
   "mimetype": "text/x-python",
   "name": "python",
   "nbconvert_exporter": "python",
   "pygments_lexer": "ipython3",
   "version": "3.12.7"
  }
 },
 "nbformat": 4,
 "nbformat_minor": 5
}
