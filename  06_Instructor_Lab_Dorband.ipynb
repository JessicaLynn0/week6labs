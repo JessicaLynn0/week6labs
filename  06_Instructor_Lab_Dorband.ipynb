{
 "cells": [
  {
   "cell_type": "code",
   "execution_count": 3,
   "id": "b4b85273-19dd-49d0-bd1b-4fa1e5af7cdd",
   "metadata": {},
   "outputs": [],
   "source": [
    "import random\n",
    "# List of all possible responses\n",
    "responses = [\n",
    "    \"It is certain\",\n",
    "    \"It is decidedly so\",\n",
    "    \"That question requires greater monetary compensation\",\n",
    "    \"Reply is hazy; try again, with more money\",\n",
    "    \"Concentrate and ask again\",\n",
    "    \"My reply is no\",\n",
    "    \"Outlook is not so good\",\n",
    "    \"Very doubtful\",\n",
    "    \"Your destiny lies in snacks, not data.\",\n",
    "    \"The universe is buffering... try again later.\",\n",
    "    \"The spirits say yes—but only if you bring coffee.\"\n",
    "]\n",
    "\n",
    "questions = []  # List to store user questions\n",
    "answers = []    # List to store responses\n",
    "total_cost = 0  # Total service cost\n",
    "first_question = True  # To toggle between \"Ask a\" and \"Ask another\" question"
   ]
  },
  {
   "cell_type": "code",
   "execution_count": 4,
   "id": "c470669a-7b54-4f68-823e-fca0152983b9",
   "metadata": {},
   "outputs": [
    {
     "name": "stdout",
     "output_type": "stream",
     "text": [
      "1. Ask a question\n",
      "2. Review questions and responses\n",
      "3. Complete services and pay\n",
      "\n"
     ]
    },
    {
     "name": "stdin",
     "output_type": "stream",
     "text": [
      "Choose an option (1-3):  1\n",
      "\n",
      "Ask what you seek to know...\n",
      " WIll I have 3 kids\n"
     ]
    },
    {
     "name": "stdout",
     "output_type": "stream",
     "text": [
      "Outlook is not so good\n",
      "\n",
      "1. Ask another question\n",
      "2. Review questions and responses\n",
      "3. Complete services and pay\n",
      "\n"
     ]
    },
    {
     "name": "stdin",
     "output_type": "stream",
     "text": [
      "Choose an option (1-3):  1\n",
      "\n",
      "Ask what you seek to know...\n",
      " Will I retire at 40\n"
     ]
    },
    {
     "name": "stdout",
     "output_type": "stream",
     "text": [
      "That question requires greater monetary compensation\n",
      "\n",
      "1. Ask another question\n",
      "2. Review questions and responses\n",
      "3. Complete services and pay\n",
      "\n"
     ]
    },
    {
     "name": "stdin",
     "output_type": "stream",
     "text": [
      "Choose an option (1-3):  1\n",
      "\n",
      "Ask what you seek to know...\n",
      " WIll I get a new job\n"
     ]
    },
    {
     "name": "stdout",
     "output_type": "stream",
     "text": [
      "Very doubtful\n",
      "\n",
      "1. Ask another question\n",
      "2. Review questions and responses\n",
      "3. Complete services and pay\n",
      "\n"
     ]
    },
    {
     "name": "stdin",
     "output_type": "stream",
     "text": [
      "Choose an option (1-3):  1\n",
      "\n",
      "Ask what you seek to know...\n",
      " Will I buy a house this year\n"
     ]
    },
    {
     "name": "stdout",
     "output_type": "stream",
     "text": [
      "Your destiny lies in snacks, not data.\n",
      "\n",
      "1. Ask another question\n",
      "2. Review questions and responses\n",
      "3. Complete services and pay\n",
      "\n"
     ]
    },
    {
     "name": "stdin",
     "output_type": "stream",
     "text": [
      "Choose an option (1-3):  2\n"
     ]
    },
    {
     "name": "stdout",
     "output_type": "stream",
     "text": [
      "\n",
      "Here are the questions and responses:\n",
      "Question: \"WIll I have 3 kids\"\n",
      "Response: \"Outlook is not so good\"\n",
      "\n",
      "Question: \"Will I retire at 40\"\n",
      "Response: \"That question requires greater monetary compensation\"\n",
      "\n",
      "Question: \"WIll I get a new job\"\n",
      "Response: \"Very doubtful\"\n",
      "\n",
      "Question: \"Will I buy a house this year\"\n",
      "Response: \"Your destiny lies in snacks, not data.\"\n",
      "\n",
      "1. Ask another question\n",
      "2. Review questions and responses\n",
      "3. Complete services and pay\n",
      "\n"
     ]
    },
    {
     "name": "stdin",
     "output_type": "stream",
     "text": [
      "Choose an option (1-3):  3\n"
     ]
    },
    {
     "name": "stdout",
     "output_type": "stream",
     "text": [
      "\n",
      "Thank you for visiting the all-seeing computer.\n",
      "\n",
      "You asked 4 question(s). You owe $120.00 for today's services.\n",
      "\n"
     ]
    }
   ],
   "source": [
    "# print(\"Welcome to your all-seeing computer!\\n\")\n",
    "\n",
    "while True:\n",
    "    print(\"1. Ask a question\" if first_question else \"1. Ask another question\")\n",
    "    print(\"2. Review questions and responses\")\n",
    "    print(\"3. Complete services and pay\\n\")\n",
    "\n",
    "    user_input = input(\"Choose an option (1-3): \")\n",
    "\n",
    "    if user_input == \"1\":\n",
    "        question = input(\"\\nAsk what you seek to know...\\n\")\n",
    "        response = random.choice(responses)\n",
    "        questions.append(question)\n",
    "        answers.append(response)\n",
    "        total_cost += 30\n",
    "        print(response + \"\\n\")\n",
    "        first_question = False\n",
    "\n",
    "    elif user_input == \"2\":\n",
    "        print(\"\\nHere are the questions and responses:\")\n",
    "        for i in range(len(questions)):\n",
    "            print(f'Question: \"{questions[i]}\"')\n",
    "            print(f'Response: \"{answers[i]}\"\\n')\n",
    "\n",
    "    elif user_input == \"3\":\n",
    "        print(\"\\nThank you for visiting the all-seeing computer.\\n\")\n",
    "        print(f\"You asked {len(questions)} question(s). You owe ${total_cost:.2f} for today's services.\\n\")\n",
    "        break\n",
    "\n",
    "    else:\n",
    "        print(\"Invalid option. Please enter 1, 2, or 3.\\n\")\n"
   ]
  },
  {
   "cell_type": "code",
   "execution_count": null,
   "id": "52b5e693-778a-4747-a706-d47b660b657c",
   "metadata": {},
   "outputs": [],
   "source": []
  }
 ],
 "metadata": {
  "kernelspec": {
   "display_name": "Python [conda env:base] *",
   "language": "python",
   "name": "conda-base-py"
  },
  "language_info": {
   "codemirror_mode": {
    "name": "ipython",
    "version": 3
   },
   "file_extension": ".py",
   "mimetype": "text/x-python",
   "name": "python",
   "nbconvert_exporter": "python",
   "pygments_lexer": "ipython3",
   "version": "3.12.7"
  }
 },
 "nbformat": 4,
 "nbformat_minor": 5
}
